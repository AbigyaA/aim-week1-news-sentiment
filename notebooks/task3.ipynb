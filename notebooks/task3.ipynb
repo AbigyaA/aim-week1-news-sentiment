{
 "cells": [
  {
   "cell_type": "code",
   "execution_count": null,
   "id": "d3bed3e9",
   "metadata": {
    "vscode": {
     "languageId": "plaintext"
    }
   },
   "outputs": [],
   "source": [
    "import pandas as pd\n",
    "\n",
    "news_df = pd.read_csv('news_data.csv')  # adjust filename as needed\n",
    "news_df['date'] = pd.to_datetime(news_df['date'])  # parse date\n"
   ]
  },
  {
   "cell_type": "code",
   "execution_count": null,
   "id": "e0bb9b77",
   "metadata": {
    "vscode": {
     "languageId": "plaintext"
    }
   },
   "outputs": [],
   "source": [
    "import yfinance as yf\n",
    "\n",
    "stock_df = yf.download('AAPL', start='2024-12-01', end='2025-06-01')\n",
    "stock_df.reset_index(inplace=True)  # to make 'Date' a column\n",
    "stock_df['Date'] = pd.to_datetime(stock_df['Date'])\n"
   ]
  },
  {
   "cell_type": "code",
   "execution_count": null,
   "id": "5305fdbf",
   "metadata": {
    "vscode": {
     "languageId": "plaintext"
    }
   },
   "outputs": [],
   "source": [
    "from textblob import TextBlob\n",
    "\n",
    "def get_sentiment(text):\n",
    "    return TextBlob(str(text)).sentiment.polarity\n",
    "\n",
    "news_df['sentiment'] = news_df['headline'].apply(get_sentiment)\n"
   ]
  },
  {
   "cell_type": "code",
   "execution_count": null,
   "id": "bf32c9e7",
   "metadata": {
    "vscode": {
     "languageId": "plaintext"
    }
   },
   "outputs": [],
   "source": [
    "# Normalize date to match stock data (remove time component)\n",
    "news_df['date'] = news_df['date'].dt.date\n",
    "daily_sentiment = news_df.groupby('date')['sentiment'].mean().reset_index()\n",
    "daily_sentiment.rename(columns={'date': 'Date', 'sentiment': 'avg_sentiment'}, inplace=True)\n"
   ]
  },
  {
   "cell_type": "code",
   "execution_count": null,
   "id": "dbe1a813",
   "metadata": {
    "vscode": {
     "languageId": "plaintext"
    }
   },
   "outputs": [],
   "source": [
    "stock_df['Return'] = stock_df['Close'].pct_change()  # percentage change\n"
   ]
  },
  {
   "cell_type": "code",
   "execution_count": null,
   "id": "de2cd6bf",
   "metadata": {
    "vscode": {
     "languageId": "plaintext"
    }
   },
   "outputs": [],
   "source": [
    "merged_df = pd.merge(stock_df, daily_sentiment, how='inner', on='Date')\n",
    "merged_df.dropna(subset=['avg_sentiment', 'Return'], inplace=True)\n",
    "merged_df.head()\n"
   ]
  },
  {
   "cell_type": "code",
   "execution_count": null,
   "id": "19bcf74e",
   "metadata": {
    "vscode": {
     "languageId": "plaintext"
    }
   },
   "outputs": [],
   "source": [
    "correlation = merged_df['avg_sentiment'].corr(merged_df['Return'], method='pearson')\n",
    "print(f'Correlation between sentiment and return: {correlation:.4f}')\n"
   ]
  },
  {
   "cell_type": "code",
   "execution_count": null,
   "id": "63418915",
   "metadata": {
    "vscode": {
     "languageId": "plaintext"
    }
   },
   "outputs": [],
   "source": [
    "import seaborn as sns\n",
    "import matplotlib.pyplot as plt\n",
    "\n",
    "sns.scatterplot(x='avg_sentiment', y='Return', data=merged_df)\n",
    "plt.title(f'Sentiment vs Return (Correlation = {correlation:.2f})')\n",
    "plt.xlabel('Average Daily Sentiment')\n",
    "plt.ylabel('Daily Return')\n",
    "plt.axhline(0, color='gray', linestyle='--')\n",
    "plt.axvline(0, color='gray', linestyle='--')\n",
    "plt.show()\n"
   ]
  }
 ],
 "metadata": {
  "language_info": {
   "name": "python"
  }
 },
 "nbformat": 4,
 "nbformat_minor": 5
}
