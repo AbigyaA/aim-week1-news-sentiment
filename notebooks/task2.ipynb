{
 "cells": [
  {
   "cell_type": "code",
   "execution_count": null,
   "id": "3da85d13",
   "metadata": {
    "vscode": {
     "languageId": "plaintext"
    }
   },
   "outputs": [],
   "source": [
    "import yfinance as yf\n",
    "\n",
    "data = yf.download('AAPL', start='2024-12-01', end='2025-05-30')\n",
    "data = data[['Open', 'High', 'Low', 'Close', 'Volume']]\n",
    "data.dropna(inplace=True)\n",
    "data.head()\n"
   ]
  },
  {
   "cell_type": "code",
   "execution_count": null,
   "id": "3d766348",
   "metadata": {
    "vscode": {
     "languageId": "plaintext"
    }
   },
   "outputs": [],
   "source": [
    "import talib\n",
    "\n",
    "data['SMA_20'] = talib.SMA(data['Close'], timeperiod=20)\n"
   ]
  },
  {
   "cell_type": "code",
   "execution_count": null,
   "id": "025c2170",
   "metadata": {
    "vscode": {
     "languageId": "plaintext"
    }
   },
   "outputs": [],
   "source": [
    "data['RSI_14'] = talib.RSI(data['Close'], timeperiod=14)\n"
   ]
  },
  {
   "cell_type": "code",
   "execution_count": null,
   "id": "e99c54f6",
   "metadata": {
    "vscode": {
     "languageId": "plaintext"
    }
   },
   "outputs": [],
   "source": [
    "data['MACD'], data['MACD_signal'], _ = talib.MACD(\n",
    "    data['Close'], fastperiod=12, slowperiod=26, signalperiod=9)\n"
   ]
  },
  {
   "cell_type": "code",
   "execution_count": null,
   "id": "2488b2a2",
   "metadata": {
    "vscode": {
     "languageId": "plaintext"
    }
   },
   "outputs": [],
   "source": [
    "import matplotlib.pyplot as plt\n",
    "\n",
    "plt.figure(figsize=(14, 6))\n",
    "plt.plot(data['Close'], label='Close Price')\n",
    "plt.plot(data['SMA_20'], label='SMA 20')\n",
    "plt.title('AAPL Price and 20-Day SMA')\n",
    "plt.legend()\n",
    "plt.show()\n"
   ]
  },
  {
   "cell_type": "code",
   "execution_count": null,
   "id": "a076519e",
   "metadata": {
    "vscode": {
     "languageId": "plaintext"
    }
   },
   "outputs": [],
   "source": [
    "plt.figure(figsize=(14, 4))\n",
    "plt.plot(data['RSI_14'], label='RSI')\n",
    "plt.axhline(70, color='red', linestyle='--')\n",
    "plt.axhline(30, color='green', linestyle='--')\n",
    "plt.title('RSI - AAPL')\n",
    "plt.legend()\n",
    "plt.show()\n"
   ]
  },
  {
   "cell_type": "code",
   "execution_count": null,
   "id": "fc0e9e43",
   "metadata": {
    "vscode": {
     "languageId": "plaintext"
    }
   },
   "outputs": [],
   "source": [
    "plt.figure(figsize=(14, 4))\n",
    "plt.plot(data['MACD'], label='MACD')\n",
    "plt.plot(data['MACD_signal'], label='Signal')\n",
    "plt.title('MACD - AAPL')\n",
    "plt.legend()\n",
    "plt.show()\n"
   ]
  },
  {
   "cell_type": "code",
   "execution_count": null,
   "id": "2273192c",
   "metadata": {
    "vscode": {
     "languageId": "plaintext"
    }
   },
   "outputs": [],
   "source": []
  }
 ],
 "metadata": {
  "language_info": {
   "name": "python"
  }
 },
 "nbformat": 4,
 "nbformat_minor": 5
}
